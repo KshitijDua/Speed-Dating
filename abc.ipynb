{
 "cells": [
  {
   "cell_type": "code",
   "execution_count": 39,
   "metadata": {
    "pycharm": {
     "name": "#%%\n"
    }
   },
   "outputs": [],
   "source": [
    "import pandas as pd\n",
    "import seaborn as sns\n",
    "import matplotlib.pyplot as plt\n",
    "\n",
    "from sklearn.model_selection import train_test_split\n",
    "from sklearn.preprocessing import LabelEncoder\n",
    "from sklearn.impute import KNNImputer\n",
    "from sklearn.preprocessing import MinMaxScaler\n",
    "\n",
    "from sklearn.model_selection import train_test_split\n",
    "from sklearn.linear_model import LogisticRegression\n",
    "from sklearn.linear_model import LinearRegression\n",
    "from sklearn.metrics import accuracy_score\n",
    "from sklearn.metrics import mean_squared_error\n",
    "\n",
    "from sklearn.decomposition import PCA\n",
    "from sklearn.metrics import confusion_matrix\n"
   ]
  },
  {
   "cell_type": "code",
   "execution_count": 2,
   "metadata": {
    "pycharm": {
     "name": "#%%\n"
    }
   },
   "outputs": [],
   "source": [
    "df = pd.read_csv(\"/Users/kshitijdua/PycharmProjects/pythonProject/TU_Graz/speeddating.csv\")"
   ]
  },
  {
   "cell_type": "code",
   "execution_count": 3,
   "metadata": {
    "pycharm": {
     "name": "#%%\n"
    }
   },
   "outputs": [
    {
     "data": {
      "text/html": [
       "<div>\n",
       "<style scoped>\n",
       "    .dataframe tbody tr th:only-of-type {\n",
       "        vertical-align: middle;\n",
       "    }\n",
       "\n",
       "    .dataframe tbody tr th {\n",
       "        vertical-align: top;\n",
       "    }\n",
       "\n",
       "    .dataframe thead th {\n",
       "        text-align: right;\n",
       "    }\n",
       "</style>\n",
       "<table border=\"1\" class=\"dataframe\">\n",
       "  <thead>\n",
       "    <tr style=\"text-align: right;\">\n",
       "      <th></th>\n",
       "      <th>has_null</th>\n",
       "      <th>wave</th>\n",
       "      <th>gender</th>\n",
       "      <th>age</th>\n",
       "      <th>age_o</th>\n",
       "      <th>d_age</th>\n",
       "      <th>d_d_age</th>\n",
       "      <th>race</th>\n",
       "      <th>race_o</th>\n",
       "      <th>samerace</th>\n",
       "      <th>...</th>\n",
       "      <th>d_expected_num_interested_in_me</th>\n",
       "      <th>d_expected_num_matches</th>\n",
       "      <th>like</th>\n",
       "      <th>guess_prob_liked</th>\n",
       "      <th>d_like</th>\n",
       "      <th>d_guess_prob_liked</th>\n",
       "      <th>met</th>\n",
       "      <th>decision</th>\n",
       "      <th>decision_o</th>\n",
       "      <th>match</th>\n",
       "    </tr>\n",
       "  </thead>\n",
       "  <tbody>\n",
       "    <tr>\n",
       "      <th>0</th>\n",
       "      <td>b''</td>\n",
       "      <td>1.0</td>\n",
       "      <td>b'female'</td>\n",
       "      <td>21.0</td>\n",
       "      <td>27.0</td>\n",
       "      <td>6.0</td>\n",
       "      <td>b'[4-6]'</td>\n",
       "      <td>b'Asian/Pacific Islander/Asian-American'</td>\n",
       "      <td>b'European/Caucasian-American'</td>\n",
       "      <td>b'0'</td>\n",
       "      <td>...</td>\n",
       "      <td>b'[0-3]'</td>\n",
       "      <td>b'[3-5]'</td>\n",
       "      <td>7.0</td>\n",
       "      <td>6.0</td>\n",
       "      <td>b'[6-8]'</td>\n",
       "      <td>b'[5-6]'</td>\n",
       "      <td>0.0</td>\n",
       "      <td>b'1'</td>\n",
       "      <td>b'0'</td>\n",
       "      <td>b'0'</td>\n",
       "    </tr>\n",
       "    <tr>\n",
       "      <th>1</th>\n",
       "      <td>b''</td>\n",
       "      <td>1.0</td>\n",
       "      <td>b'female'</td>\n",
       "      <td>21.0</td>\n",
       "      <td>22.0</td>\n",
       "      <td>1.0</td>\n",
       "      <td>b'[0-1]'</td>\n",
       "      <td>b'Asian/Pacific Islander/Asian-American'</td>\n",
       "      <td>b'European/Caucasian-American'</td>\n",
       "      <td>b'0'</td>\n",
       "      <td>...</td>\n",
       "      <td>b'[0-3]'</td>\n",
       "      <td>b'[3-5]'</td>\n",
       "      <td>7.0</td>\n",
       "      <td>5.0</td>\n",
       "      <td>b'[6-8]'</td>\n",
       "      <td>b'[5-6]'</td>\n",
       "      <td>1.0</td>\n",
       "      <td>b'1'</td>\n",
       "      <td>b'0'</td>\n",
       "      <td>b'0'</td>\n",
       "    </tr>\n",
       "    <tr>\n",
       "      <th>2</th>\n",
       "      <td>b''</td>\n",
       "      <td>1.0</td>\n",
       "      <td>b'female'</td>\n",
       "      <td>21.0</td>\n",
       "      <td>22.0</td>\n",
       "      <td>1.0</td>\n",
       "      <td>b'[0-1]'</td>\n",
       "      <td>b'Asian/Pacific Islander/Asian-American'</td>\n",
       "      <td>b'Asian/Pacific Islander/Asian-American'</td>\n",
       "      <td>b'1'</td>\n",
       "      <td>...</td>\n",
       "      <td>b'[0-3]'</td>\n",
       "      <td>b'[3-5]'</td>\n",
       "      <td>7.0</td>\n",
       "      <td>NaN</td>\n",
       "      <td>b'[6-8]'</td>\n",
       "      <td>b'[0-4]'</td>\n",
       "      <td>1.0</td>\n",
       "      <td>b'1'</td>\n",
       "      <td>b'1'</td>\n",
       "      <td>b'1'</td>\n",
       "    </tr>\n",
       "    <tr>\n",
       "      <th>3</th>\n",
       "      <td>b''</td>\n",
       "      <td>1.0</td>\n",
       "      <td>b'female'</td>\n",
       "      <td>21.0</td>\n",
       "      <td>23.0</td>\n",
       "      <td>2.0</td>\n",
       "      <td>b'[2-3]'</td>\n",
       "      <td>b'Asian/Pacific Islander/Asian-American'</td>\n",
       "      <td>b'European/Caucasian-American'</td>\n",
       "      <td>b'0'</td>\n",
       "      <td>...</td>\n",
       "      <td>b'[0-3]'</td>\n",
       "      <td>b'[3-5]'</td>\n",
       "      <td>7.0</td>\n",
       "      <td>6.0</td>\n",
       "      <td>b'[6-8]'</td>\n",
       "      <td>b'[5-6]'</td>\n",
       "      <td>0.0</td>\n",
       "      <td>b'1'</td>\n",
       "      <td>b'1'</td>\n",
       "      <td>b'1'</td>\n",
       "    </tr>\n",
       "    <tr>\n",
       "      <th>4</th>\n",
       "      <td>b''</td>\n",
       "      <td>1.0</td>\n",
       "      <td>b'female'</td>\n",
       "      <td>21.0</td>\n",
       "      <td>24.0</td>\n",
       "      <td>3.0</td>\n",
       "      <td>b'[2-3]'</td>\n",
       "      <td>b'Asian/Pacific Islander/Asian-American'</td>\n",
       "      <td>b'Latino/Hispanic American'</td>\n",
       "      <td>b'0'</td>\n",
       "      <td>...</td>\n",
       "      <td>b'[0-3]'</td>\n",
       "      <td>b'[3-5]'</td>\n",
       "      <td>6.0</td>\n",
       "      <td>6.0</td>\n",
       "      <td>b'[6-8]'</td>\n",
       "      <td>b'[5-6]'</td>\n",
       "      <td>0.0</td>\n",
       "      <td>b'1'</td>\n",
       "      <td>b'1'</td>\n",
       "      <td>b'1'</td>\n",
       "    </tr>\n",
       "  </tbody>\n",
       "</table>\n",
       "<p>5 rows × 123 columns</p>\n",
       "</div>"
      ],
      "text/plain": [
       "  has_null  wave     gender   age  age_o  d_age   d_d_age   \n",
       "0      b''   1.0  b'female'  21.0   27.0    6.0  b'[4-6]'  \\\n",
       "1      b''   1.0  b'female'  21.0   22.0    1.0  b'[0-1]'   \n",
       "2      b''   1.0  b'female'  21.0   22.0    1.0  b'[0-1]'   \n",
       "3      b''   1.0  b'female'  21.0   23.0    2.0  b'[2-3]'   \n",
       "4      b''   1.0  b'female'  21.0   24.0    3.0  b'[2-3]'   \n",
       "\n",
       "                                       race   \n",
       "0  b'Asian/Pacific Islander/Asian-American'  \\\n",
       "1  b'Asian/Pacific Islander/Asian-American'   \n",
       "2  b'Asian/Pacific Islander/Asian-American'   \n",
       "3  b'Asian/Pacific Islander/Asian-American'   \n",
       "4  b'Asian/Pacific Islander/Asian-American'   \n",
       "\n",
       "                                     race_o samerace  ...   \n",
       "0            b'European/Caucasian-American'     b'0'  ...  \\\n",
       "1            b'European/Caucasian-American'     b'0'  ...   \n",
       "2  b'Asian/Pacific Islander/Asian-American'     b'1'  ...   \n",
       "3            b'European/Caucasian-American'     b'0'  ...   \n",
       "4               b'Latino/Hispanic American'     b'0'  ...   \n",
       "\n",
       "   d_expected_num_interested_in_me  d_expected_num_matches like   \n",
       "0                         b'[0-3]'                b'[3-5]'  7.0  \\\n",
       "1                         b'[0-3]'                b'[3-5]'  7.0   \n",
       "2                         b'[0-3]'                b'[3-5]'  7.0   \n",
       "3                         b'[0-3]'                b'[3-5]'  7.0   \n",
       "4                         b'[0-3]'                b'[3-5]'  6.0   \n",
       "\n",
       "  guess_prob_liked    d_like  d_guess_prob_liked  met  decision  decision_o   \n",
       "0              6.0  b'[6-8]'            b'[5-6]'  0.0      b'1'        b'0'  \\\n",
       "1              5.0  b'[6-8]'            b'[5-6]'  1.0      b'1'        b'0'   \n",
       "2              NaN  b'[6-8]'            b'[0-4]'  1.0      b'1'        b'1'   \n",
       "3              6.0  b'[6-8]'            b'[5-6]'  0.0      b'1'        b'1'   \n",
       "4              6.0  b'[6-8]'            b'[5-6]'  0.0      b'1'        b'1'   \n",
       "\n",
       "   match  \n",
       "0   b'0'  \n",
       "1   b'0'  \n",
       "2   b'1'  \n",
       "3   b'1'  \n",
       "4   b'1'  \n",
       "\n",
       "[5 rows x 123 columns]"
      ]
     },
     "execution_count": 3,
     "metadata": {},
     "output_type": "execute_result"
    }
   ],
   "source": [
    "df.head()"
   ]
  },
  {
   "cell_type": "code",
   "execution_count": 4,
   "metadata": {
    "pycharm": {
     "name": "#%%\n"
    }
   },
   "outputs": [
    {
     "data": {
      "text/html": [
       "<div>\n",
       "<style scoped>\n",
       "    .dataframe tbody tr th:only-of-type {\n",
       "        vertical-align: middle;\n",
       "    }\n",
       "\n",
       "    .dataframe tbody tr th {\n",
       "        vertical-align: top;\n",
       "    }\n",
       "\n",
       "    .dataframe thead th {\n",
       "        text-align: right;\n",
       "    }\n",
       "</style>\n",
       "<table border=\"1\" class=\"dataframe\">\n",
       "  <thead>\n",
       "    <tr style=\"text-align: right;\">\n",
       "      <th></th>\n",
       "      <th>wave</th>\n",
       "      <th>age</th>\n",
       "      <th>age_o</th>\n",
       "      <th>d_age</th>\n",
       "      <th>importance_same_race</th>\n",
       "      <th>importance_same_religion</th>\n",
       "      <th>pref_o_attractive</th>\n",
       "      <th>pref_o_sincere</th>\n",
       "      <th>pref_o_intelligence</th>\n",
       "      <th>pref_o_funny</th>\n",
       "      <th>...</th>\n",
       "      <th>music</th>\n",
       "      <th>shopping</th>\n",
       "      <th>yoga</th>\n",
       "      <th>interests_correlate</th>\n",
       "      <th>expected_happy_with_sd_people</th>\n",
       "      <th>expected_num_interested_in_me</th>\n",
       "      <th>expected_num_matches</th>\n",
       "      <th>like</th>\n",
       "      <th>guess_prob_liked</th>\n",
       "      <th>met</th>\n",
       "    </tr>\n",
       "  </thead>\n",
       "  <tbody>\n",
       "    <tr>\n",
       "      <th>count</th>\n",
       "      <td>8378.000000</td>\n",
       "      <td>8283.000000</td>\n",
       "      <td>8274.000000</td>\n",
       "      <td>8378.000000</td>\n",
       "      <td>8299.000000</td>\n",
       "      <td>8299.000000</td>\n",
       "      <td>8289.000000</td>\n",
       "      <td>8289.000000</td>\n",
       "      <td>8289.000000</td>\n",
       "      <td>8280.000000</td>\n",
       "      <td>...</td>\n",
       "      <td>8299.000000</td>\n",
       "      <td>8299.000000</td>\n",
       "      <td>8299.000000</td>\n",
       "      <td>8220.000000</td>\n",
       "      <td>8277.000000</td>\n",
       "      <td>1800.000000</td>\n",
       "      <td>7205.000000</td>\n",
       "      <td>8138.000000</td>\n",
       "      <td>8069.000000</td>\n",
       "      <td>8003.000000</td>\n",
       "    </tr>\n",
       "    <tr>\n",
       "      <th>mean</th>\n",
       "      <td>11.350919</td>\n",
       "      <td>26.358928</td>\n",
       "      <td>26.364999</td>\n",
       "      <td>4.185605</td>\n",
       "      <td>3.784793</td>\n",
       "      <td>3.651645</td>\n",
       "      <td>22.495347</td>\n",
       "      <td>17.396867</td>\n",
       "      <td>20.270759</td>\n",
       "      <td>17.459714</td>\n",
       "      <td>...</td>\n",
       "      <td>7.851066</td>\n",
       "      <td>5.631281</td>\n",
       "      <td>4.339197</td>\n",
       "      <td>0.196010</td>\n",
       "      <td>5.534131</td>\n",
       "      <td>5.570556</td>\n",
       "      <td>3.207814</td>\n",
       "      <td>6.134087</td>\n",
       "      <td>5.207523</td>\n",
       "      <td>0.049856</td>\n",
       "    </tr>\n",
       "    <tr>\n",
       "      <th>std</th>\n",
       "      <td>5.995903</td>\n",
       "      <td>3.566763</td>\n",
       "      <td>3.563648</td>\n",
       "      <td>4.596171</td>\n",
       "      <td>2.845708</td>\n",
       "      <td>2.805237</td>\n",
       "      <td>12.569802</td>\n",
       "      <td>7.044003</td>\n",
       "      <td>6.782895</td>\n",
       "      <td>6.085526</td>\n",
       "      <td>...</td>\n",
       "      <td>1.791827</td>\n",
       "      <td>2.608913</td>\n",
       "      <td>2.717612</td>\n",
       "      <td>0.303539</td>\n",
       "      <td>1.734059</td>\n",
       "      <td>4.762569</td>\n",
       "      <td>2.444813</td>\n",
       "      <td>1.841285</td>\n",
       "      <td>2.129565</td>\n",
       "      <td>0.282168</td>\n",
       "    </tr>\n",
       "    <tr>\n",
       "      <th>min</th>\n",
       "      <td>1.000000</td>\n",
       "      <td>18.000000</td>\n",
       "      <td>18.000000</td>\n",
       "      <td>0.000000</td>\n",
       "      <td>0.000000</td>\n",
       "      <td>1.000000</td>\n",
       "      <td>0.000000</td>\n",
       "      <td>0.000000</td>\n",
       "      <td>0.000000</td>\n",
       "      <td>0.000000</td>\n",
       "      <td>...</td>\n",
       "      <td>1.000000</td>\n",
       "      <td>1.000000</td>\n",
       "      <td>0.000000</td>\n",
       "      <td>-0.830000</td>\n",
       "      <td>1.000000</td>\n",
       "      <td>0.000000</td>\n",
       "      <td>0.000000</td>\n",
       "      <td>0.000000</td>\n",
       "      <td>0.000000</td>\n",
       "      <td>0.000000</td>\n",
       "    </tr>\n",
       "    <tr>\n",
       "      <th>25%</th>\n",
       "      <td>7.000000</td>\n",
       "      <td>24.000000</td>\n",
       "      <td>24.000000</td>\n",
       "      <td>1.000000</td>\n",
       "      <td>1.000000</td>\n",
       "      <td>1.000000</td>\n",
       "      <td>15.000000</td>\n",
       "      <td>15.000000</td>\n",
       "      <td>17.390000</td>\n",
       "      <td>15.000000</td>\n",
       "      <td>...</td>\n",
       "      <td>7.000000</td>\n",
       "      <td>4.000000</td>\n",
       "      <td>2.000000</td>\n",
       "      <td>-0.020000</td>\n",
       "      <td>5.000000</td>\n",
       "      <td>2.000000</td>\n",
       "      <td>2.000000</td>\n",
       "      <td>5.000000</td>\n",
       "      <td>4.000000</td>\n",
       "      <td>0.000000</td>\n",
       "    </tr>\n",
       "    <tr>\n",
       "      <th>50%</th>\n",
       "      <td>11.000000</td>\n",
       "      <td>26.000000</td>\n",
       "      <td>26.000000</td>\n",
       "      <td>3.000000</td>\n",
       "      <td>3.000000</td>\n",
       "      <td>3.000000</td>\n",
       "      <td>20.000000</td>\n",
       "      <td>18.370000</td>\n",
       "      <td>20.000000</td>\n",
       "      <td>18.000000</td>\n",
       "      <td>...</td>\n",
       "      <td>8.000000</td>\n",
       "      <td>6.000000</td>\n",
       "      <td>4.000000</td>\n",
       "      <td>0.210000</td>\n",
       "      <td>6.000000</td>\n",
       "      <td>4.000000</td>\n",
       "      <td>3.000000</td>\n",
       "      <td>6.000000</td>\n",
       "      <td>5.000000</td>\n",
       "      <td>0.000000</td>\n",
       "    </tr>\n",
       "    <tr>\n",
       "      <th>75%</th>\n",
       "      <td>15.000000</td>\n",
       "      <td>28.000000</td>\n",
       "      <td>28.000000</td>\n",
       "      <td>5.000000</td>\n",
       "      <td>6.000000</td>\n",
       "      <td>6.000000</td>\n",
       "      <td>25.000000</td>\n",
       "      <td>20.000000</td>\n",
       "      <td>23.810000</td>\n",
       "      <td>20.000000</td>\n",
       "      <td>...</td>\n",
       "      <td>9.000000</td>\n",
       "      <td>8.000000</td>\n",
       "      <td>7.000000</td>\n",
       "      <td>0.430000</td>\n",
       "      <td>7.000000</td>\n",
       "      <td>8.000000</td>\n",
       "      <td>4.000000</td>\n",
       "      <td>7.000000</td>\n",
       "      <td>7.000000</td>\n",
       "      <td>0.000000</td>\n",
       "    </tr>\n",
       "    <tr>\n",
       "      <th>max</th>\n",
       "      <td>21.000000</td>\n",
       "      <td>55.000000</td>\n",
       "      <td>55.000000</td>\n",
       "      <td>37.000000</td>\n",
       "      <td>10.000000</td>\n",
       "      <td>10.000000</td>\n",
       "      <td>100.000000</td>\n",
       "      <td>60.000000</td>\n",
       "      <td>50.000000</td>\n",
       "      <td>50.000000</td>\n",
       "      <td>...</td>\n",
       "      <td>10.000000</td>\n",
       "      <td>10.000000</td>\n",
       "      <td>10.000000</td>\n",
       "      <td>0.910000</td>\n",
       "      <td>10.000000</td>\n",
       "      <td>20.000000</td>\n",
       "      <td>18.000000</td>\n",
       "      <td>10.000000</td>\n",
       "      <td>10.000000</td>\n",
       "      <td>8.000000</td>\n",
       "    </tr>\n",
       "  </tbody>\n",
       "</table>\n",
       "<p>8 rows × 59 columns</p>\n",
       "</div>"
      ],
      "text/plain": [
       "              wave          age        age_o        d_age   \n",
       "count  8378.000000  8283.000000  8274.000000  8378.000000  \\\n",
       "mean     11.350919    26.358928    26.364999     4.185605   \n",
       "std       5.995903     3.566763     3.563648     4.596171   \n",
       "min       1.000000    18.000000    18.000000     0.000000   \n",
       "25%       7.000000    24.000000    24.000000     1.000000   \n",
       "50%      11.000000    26.000000    26.000000     3.000000   \n",
       "75%      15.000000    28.000000    28.000000     5.000000   \n",
       "max      21.000000    55.000000    55.000000    37.000000   \n",
       "\n",
       "       importance_same_race  importance_same_religion  pref_o_attractive   \n",
       "count           8299.000000               8299.000000        8289.000000  \\\n",
       "mean               3.784793                  3.651645          22.495347   \n",
       "std                2.845708                  2.805237          12.569802   \n",
       "min                0.000000                  1.000000           0.000000   \n",
       "25%                1.000000                  1.000000          15.000000   \n",
       "50%                3.000000                  3.000000          20.000000   \n",
       "75%                6.000000                  6.000000          25.000000   \n",
       "max               10.000000                 10.000000         100.000000   \n",
       "\n",
       "       pref_o_sincere  pref_o_intelligence  pref_o_funny  ...        music   \n",
       "count     8289.000000          8289.000000   8280.000000  ...  8299.000000  \\\n",
       "mean        17.396867            20.270759     17.459714  ...     7.851066   \n",
       "std          7.044003             6.782895      6.085526  ...     1.791827   \n",
       "min          0.000000             0.000000      0.000000  ...     1.000000   \n",
       "25%         15.000000            17.390000     15.000000  ...     7.000000   \n",
       "50%         18.370000            20.000000     18.000000  ...     8.000000   \n",
       "75%         20.000000            23.810000     20.000000  ...     9.000000   \n",
       "max         60.000000            50.000000     50.000000  ...    10.000000   \n",
       "\n",
       "          shopping         yoga  interests_correlate   \n",
       "count  8299.000000  8299.000000          8220.000000  \\\n",
       "mean      5.631281     4.339197             0.196010   \n",
       "std       2.608913     2.717612             0.303539   \n",
       "min       1.000000     0.000000            -0.830000   \n",
       "25%       4.000000     2.000000            -0.020000   \n",
       "50%       6.000000     4.000000             0.210000   \n",
       "75%       8.000000     7.000000             0.430000   \n",
       "max      10.000000    10.000000             0.910000   \n",
       "\n",
       "       expected_happy_with_sd_people  expected_num_interested_in_me   \n",
       "count                    8277.000000                    1800.000000  \\\n",
       "mean                        5.534131                       5.570556   \n",
       "std                         1.734059                       4.762569   \n",
       "min                         1.000000                       0.000000   \n",
       "25%                         5.000000                       2.000000   \n",
       "50%                         6.000000                       4.000000   \n",
       "75%                         7.000000                       8.000000   \n",
       "max                        10.000000                      20.000000   \n",
       "\n",
       "       expected_num_matches         like  guess_prob_liked          met  \n",
       "count           7205.000000  8138.000000       8069.000000  8003.000000  \n",
       "mean               3.207814     6.134087          5.207523     0.049856  \n",
       "std                2.444813     1.841285          2.129565     0.282168  \n",
       "min                0.000000     0.000000          0.000000     0.000000  \n",
       "25%                2.000000     5.000000          4.000000     0.000000  \n",
       "50%                3.000000     6.000000          5.000000     0.000000  \n",
       "75%                4.000000     7.000000          7.000000     0.000000  \n",
       "max               18.000000    10.000000         10.000000     8.000000  \n",
       "\n",
       "[8 rows x 59 columns]"
      ]
     },
     "execution_count": 4,
     "metadata": {},
     "output_type": "execute_result"
    }
   ],
   "source": [
    "df.describe()"
   ]
  },
  {
   "cell_type": "code",
   "execution_count": 5,
   "metadata": {
    "pycharm": {
     "name": "#%%\n"
    }
   },
   "outputs": [
    {
     "data": {
      "text/plain": [
       "array([\"b''\"], dtype=object)"
      ]
     },
     "execution_count": 5,
     "metadata": {},
     "output_type": "execute_result"
    }
   ],
   "source": [
    "df.has_null.unique()"
   ]
  },
  {
   "cell_type": "code",
   "execution_count": 6,
   "metadata": {
    "pycharm": {
     "name": "#%%\n"
    }
   },
   "outputs": [],
   "source": [
    "df.drop('has_null', axis = 1, inplace = True)"
   ]
  },
  {
   "cell_type": "code",
   "execution_count": 7,
   "metadata": {
    "pycharm": {
     "name": "#%%\n"
    }
   },
   "outputs": [
    {
     "data": {
      "text/plain": [
       "object     63\n",
       "float64    59\n",
       "Name: count, dtype: int64"
      ]
     },
     "execution_count": 7,
     "metadata": {},
     "output_type": "execute_result"
    }
   ],
   "source": [
    "df.dtypes.value_counts()"
   ]
  },
  {
   "cell_type": "code",
   "execution_count": 9,
   "metadata": {
    "pycharm": {
     "name": "#%%\n"
    }
   },
   "outputs": [],
   "source": [
    "category_columns = df.select_dtypes('object')"
   ]
  },
  {
   "cell_type": "code",
   "execution_count": 10,
   "metadata": {
    "pycharm": {
     "name": "#%%\n"
    }
   },
   "outputs": [
    {
     "data": {
      "text/html": [
       "<div>\n",
       "<style scoped>\n",
       "    .dataframe tbody tr th:only-of-type {\n",
       "        vertical-align: middle;\n",
       "    }\n",
       "\n",
       "    .dataframe tbody tr th {\n",
       "        vertical-align: top;\n",
       "    }\n",
       "\n",
       "    .dataframe thead th {\n",
       "        text-align: right;\n",
       "    }\n",
       "</style>\n",
       "<table border=\"1\" class=\"dataframe\">\n",
       "  <thead>\n",
       "    <tr style=\"text-align: right;\">\n",
       "      <th></th>\n",
       "      <th>gender</th>\n",
       "      <th>d_d_age</th>\n",
       "      <th>race</th>\n",
       "      <th>race_o</th>\n",
       "      <th>samerace</th>\n",
       "      <th>d_importance_same_race</th>\n",
       "      <th>d_importance_same_religion</th>\n",
       "      <th>field</th>\n",
       "      <th>d_pref_o_attractive</th>\n",
       "      <th>d_pref_o_sincere</th>\n",
       "      <th>...</th>\n",
       "      <th>d_yoga</th>\n",
       "      <th>d_interests_correlate</th>\n",
       "      <th>d_expected_happy_with_sd_people</th>\n",
       "      <th>d_expected_num_interested_in_me</th>\n",
       "      <th>d_expected_num_matches</th>\n",
       "      <th>d_like</th>\n",
       "      <th>d_guess_prob_liked</th>\n",
       "      <th>decision</th>\n",
       "      <th>decision_o</th>\n",
       "      <th>match</th>\n",
       "    </tr>\n",
       "  </thead>\n",
       "  <tbody>\n",
       "    <tr>\n",
       "      <th>0</th>\n",
       "      <td>b'female'</td>\n",
       "      <td>b'[4-6]'</td>\n",
       "      <td>b'Asian/Pacific Islander/Asian-American'</td>\n",
       "      <td>b'European/Caucasian-American'</td>\n",
       "      <td>b'0'</td>\n",
       "      <td>b'[2-5]'</td>\n",
       "      <td>b'[2-5]'</td>\n",
       "      <td>b'Law'</td>\n",
       "      <td>b'[21-100]'</td>\n",
       "      <td>b'[16-20]'</td>\n",
       "      <td>...</td>\n",
       "      <td>b'[0-5]'</td>\n",
       "      <td>b'[0-0.33]'</td>\n",
       "      <td>b'[0-4]'</td>\n",
       "      <td>b'[0-3]'</td>\n",
       "      <td>b'[3-5]'</td>\n",
       "      <td>b'[6-8]'</td>\n",
       "      <td>b'[5-6]'</td>\n",
       "      <td>b'1'</td>\n",
       "      <td>b'0'</td>\n",
       "      <td>b'0'</td>\n",
       "    </tr>\n",
       "    <tr>\n",
       "      <th>1</th>\n",
       "      <td>b'female'</td>\n",
       "      <td>b'[0-1]'</td>\n",
       "      <td>b'Asian/Pacific Islander/Asian-American'</td>\n",
       "      <td>b'European/Caucasian-American'</td>\n",
       "      <td>b'0'</td>\n",
       "      <td>b'[2-5]'</td>\n",
       "      <td>b'[2-5]'</td>\n",
       "      <td>b'Law'</td>\n",
       "      <td>b'[21-100]'</td>\n",
       "      <td>b'[0-15]'</td>\n",
       "      <td>...</td>\n",
       "      <td>b'[0-5]'</td>\n",
       "      <td>b'[0.33-1]'</td>\n",
       "      <td>b'[0-4]'</td>\n",
       "      <td>b'[0-3]'</td>\n",
       "      <td>b'[3-5]'</td>\n",
       "      <td>b'[6-8]'</td>\n",
       "      <td>b'[5-6]'</td>\n",
       "      <td>b'1'</td>\n",
       "      <td>b'0'</td>\n",
       "      <td>b'0'</td>\n",
       "    </tr>\n",
       "    <tr>\n",
       "      <th>2</th>\n",
       "      <td>b'female'</td>\n",
       "      <td>b'[0-1]'</td>\n",
       "      <td>b'Asian/Pacific Islander/Asian-American'</td>\n",
       "      <td>b'Asian/Pacific Islander/Asian-American'</td>\n",
       "      <td>b'1'</td>\n",
       "      <td>b'[2-5]'</td>\n",
       "      <td>b'[2-5]'</td>\n",
       "      <td>b'Law'</td>\n",
       "      <td>b'[16-20]'</td>\n",
       "      <td>b'[16-20]'</td>\n",
       "      <td>...</td>\n",
       "      <td>b'[0-5]'</td>\n",
       "      <td>b'[0-0.33]'</td>\n",
       "      <td>b'[0-4]'</td>\n",
       "      <td>b'[0-3]'</td>\n",
       "      <td>b'[3-5]'</td>\n",
       "      <td>b'[6-8]'</td>\n",
       "      <td>b'[0-4]'</td>\n",
       "      <td>b'1'</td>\n",
       "      <td>b'1'</td>\n",
       "      <td>b'1'</td>\n",
       "    </tr>\n",
       "    <tr>\n",
       "      <th>3</th>\n",
       "      <td>b'female'</td>\n",
       "      <td>b'[2-3]'</td>\n",
       "      <td>b'Asian/Pacific Islander/Asian-American'</td>\n",
       "      <td>b'European/Caucasian-American'</td>\n",
       "      <td>b'0'</td>\n",
       "      <td>b'[2-5]'</td>\n",
       "      <td>b'[2-5]'</td>\n",
       "      <td>b'Law'</td>\n",
       "      <td>b'[21-100]'</td>\n",
       "      <td>b'[0-15]'</td>\n",
       "      <td>...</td>\n",
       "      <td>b'[0-5]'</td>\n",
       "      <td>b'[0.33-1]'</td>\n",
       "      <td>b'[0-4]'</td>\n",
       "      <td>b'[0-3]'</td>\n",
       "      <td>b'[3-5]'</td>\n",
       "      <td>b'[6-8]'</td>\n",
       "      <td>b'[5-6]'</td>\n",
       "      <td>b'1'</td>\n",
       "      <td>b'1'</td>\n",
       "      <td>b'1'</td>\n",
       "    </tr>\n",
       "    <tr>\n",
       "      <th>4</th>\n",
       "      <td>b'female'</td>\n",
       "      <td>b'[2-3]'</td>\n",
       "      <td>b'Asian/Pacific Islander/Asian-American'</td>\n",
       "      <td>b'Latino/Hispanic American'</td>\n",
       "      <td>b'0'</td>\n",
       "      <td>b'[2-5]'</td>\n",
       "      <td>b'[2-5]'</td>\n",
       "      <td>b'Law'</td>\n",
       "      <td>b'[21-100]'</td>\n",
       "      <td>b'[0-15]'</td>\n",
       "      <td>...</td>\n",
       "      <td>b'[0-5]'</td>\n",
       "      <td>b'[0-0.33]'</td>\n",
       "      <td>b'[0-4]'</td>\n",
       "      <td>b'[0-3]'</td>\n",
       "      <td>b'[3-5]'</td>\n",
       "      <td>b'[6-8]'</td>\n",
       "      <td>b'[5-6]'</td>\n",
       "      <td>b'1'</td>\n",
       "      <td>b'1'</td>\n",
       "      <td>b'1'</td>\n",
       "    </tr>\n",
       "    <tr>\n",
       "      <th>...</th>\n",
       "      <td>...</td>\n",
       "      <td>...</td>\n",
       "      <td>...</td>\n",
       "      <td>...</td>\n",
       "      <td>...</td>\n",
       "      <td>...</td>\n",
       "      <td>...</td>\n",
       "      <td>...</td>\n",
       "      <td>...</td>\n",
       "      <td>...</td>\n",
       "      <td>...</td>\n",
       "      <td>...</td>\n",
       "      <td>...</td>\n",
       "      <td>...</td>\n",
       "      <td>...</td>\n",
       "      <td>...</td>\n",
       "      <td>...</td>\n",
       "      <td>...</td>\n",
       "      <td>...</td>\n",
       "      <td>...</td>\n",
       "      <td>...</td>\n",
       "    </tr>\n",
       "    <tr>\n",
       "      <th>8373</th>\n",
       "      <td>b'male'</td>\n",
       "      <td>b'[0-1]'</td>\n",
       "      <td>b'European/Caucasian-American'</td>\n",
       "      <td>b'Latino/Hispanic American'</td>\n",
       "      <td>b'0'</td>\n",
       "      <td>b'[0-1]'</td>\n",
       "      <td>b'[0-1]'</td>\n",
       "      <td>b'Climate Dynamics'</td>\n",
       "      <td>b'[0-15]'</td>\n",
       "      <td>b'[0-15]'</td>\n",
       "      <td>...</td>\n",
       "      <td>b'[0-5]'</td>\n",
       "      <td>b'[0.33-1]'</td>\n",
       "      <td>b'[7-10]'</td>\n",
       "      <td>b'[0-3]'</td>\n",
       "      <td>b'[3-5]'</td>\n",
       "      <td>b'[0-5]'</td>\n",
       "      <td>b'[5-6]'</td>\n",
       "      <td>b'0'</td>\n",
       "      <td>b'1'</td>\n",
       "      <td>b'0'</td>\n",
       "    </tr>\n",
       "    <tr>\n",
       "      <th>8374</th>\n",
       "      <td>b'male'</td>\n",
       "      <td>b'[0-1]'</td>\n",
       "      <td>b'European/Caucasian-American'</td>\n",
       "      <td>b'Other'</td>\n",
       "      <td>b'0'</td>\n",
       "      <td>b'[0-1]'</td>\n",
       "      <td>b'[0-1]'</td>\n",
       "      <td>b'Climate Dynamics'</td>\n",
       "      <td>b'[21-100]'</td>\n",
       "      <td>b'[16-20]'</td>\n",
       "      <td>...</td>\n",
       "      <td>b'[0-5]'</td>\n",
       "      <td>b'[0.33-1]'</td>\n",
       "      <td>b'[7-10]'</td>\n",
       "      <td>b'[0-3]'</td>\n",
       "      <td>b'[3-5]'</td>\n",
       "      <td>b'[0-5]'</td>\n",
       "      <td>b'[0-4]'</td>\n",
       "      <td>b'0'</td>\n",
       "      <td>b'0'</td>\n",
       "      <td>b'0'</td>\n",
       "    </tr>\n",
       "    <tr>\n",
       "      <th>8375</th>\n",
       "      <td>b'male'</td>\n",
       "      <td>b'[4-6]'</td>\n",
       "      <td>b'European/Caucasian-American'</td>\n",
       "      <td>b'Latino/Hispanic American'</td>\n",
       "      <td>b'0'</td>\n",
       "      <td>b'[0-1]'</td>\n",
       "      <td>b'[0-1]'</td>\n",
       "      <td>b'Climate Dynamics'</td>\n",
       "      <td>b'[21-100]'</td>\n",
       "      <td>b'[0-15]'</td>\n",
       "      <td>...</td>\n",
       "      <td>b'[0-5]'</td>\n",
       "      <td>b'[-1-0]'</td>\n",
       "      <td>b'[7-10]'</td>\n",
       "      <td>b'[0-3]'</td>\n",
       "      <td>b'[3-5]'</td>\n",
       "      <td>b'[6-8]'</td>\n",
       "      <td>b'[5-6]'</td>\n",
       "      <td>b'0'</td>\n",
       "      <td>b'0'</td>\n",
       "      <td>b'0'</td>\n",
       "    </tr>\n",
       "    <tr>\n",
       "      <th>8376</th>\n",
       "      <td>b'male'</td>\n",
       "      <td>b'[2-3]'</td>\n",
       "      <td>b'European/Caucasian-American'</td>\n",
       "      <td>b'Asian/Pacific Islander/Asian-American'</td>\n",
       "      <td>b'0'</td>\n",
       "      <td>b'[0-1]'</td>\n",
       "      <td>b'[0-1]'</td>\n",
       "      <td>b'Climate Dynamics'</td>\n",
       "      <td>b'[0-15]'</td>\n",
       "      <td>b'[21-100]'</td>\n",
       "      <td>...</td>\n",
       "      <td>b'[0-5]'</td>\n",
       "      <td>b'[0.33-1]'</td>\n",
       "      <td>b'[7-10]'</td>\n",
       "      <td>b'[0-3]'</td>\n",
       "      <td>b'[3-5]'</td>\n",
       "      <td>b'[0-5]'</td>\n",
       "      <td>b'[5-6]'</td>\n",
       "      <td>b'0'</td>\n",
       "      <td>b'1'</td>\n",
       "      <td>b'0'</td>\n",
       "    </tr>\n",
       "    <tr>\n",
       "      <th>8377</th>\n",
       "      <td>b'male'</td>\n",
       "      <td>b'[2-3]'</td>\n",
       "      <td>b'European/Caucasian-American'</td>\n",
       "      <td>b'Asian/Pacific Islander/Asian-American'</td>\n",
       "      <td>b'0'</td>\n",
       "      <td>b'[0-1]'</td>\n",
       "      <td>b'[0-1]'</td>\n",
       "      <td>b'Climate Dynamics'</td>\n",
       "      <td>b'[16-20]'</td>\n",
       "      <td>b'[16-20]'</td>\n",
       "      <td>...</td>\n",
       "      <td>b'[0-5]'</td>\n",
       "      <td>b'[0-0.33]'</td>\n",
       "      <td>b'[7-10]'</td>\n",
       "      <td>b'[0-3]'</td>\n",
       "      <td>b'[3-5]'</td>\n",
       "      <td>b'[0-5]'</td>\n",
       "      <td>b'[5-6]'</td>\n",
       "      <td>b'0'</td>\n",
       "      <td>b'1'</td>\n",
       "      <td>b'0'</td>\n",
       "    </tr>\n",
       "  </tbody>\n",
       "</table>\n",
       "<p>8378 rows × 63 columns</p>\n",
       "</div>"
      ],
      "text/plain": [
       "         gender   d_d_age                                      race   \n",
       "0     b'female'  b'[4-6]'  b'Asian/Pacific Islander/Asian-American'  \\\n",
       "1     b'female'  b'[0-1]'  b'Asian/Pacific Islander/Asian-American'   \n",
       "2     b'female'  b'[0-1]'  b'Asian/Pacific Islander/Asian-American'   \n",
       "3     b'female'  b'[2-3]'  b'Asian/Pacific Islander/Asian-American'   \n",
       "4     b'female'  b'[2-3]'  b'Asian/Pacific Islander/Asian-American'   \n",
       "...         ...       ...                                       ...   \n",
       "8373    b'male'  b'[0-1]'            b'European/Caucasian-American'   \n",
       "8374    b'male'  b'[0-1]'            b'European/Caucasian-American'   \n",
       "8375    b'male'  b'[4-6]'            b'European/Caucasian-American'   \n",
       "8376    b'male'  b'[2-3]'            b'European/Caucasian-American'   \n",
       "8377    b'male'  b'[2-3]'            b'European/Caucasian-American'   \n",
       "\n",
       "                                        race_o samerace   \n",
       "0               b'European/Caucasian-American'     b'0'  \\\n",
       "1               b'European/Caucasian-American'     b'0'   \n",
       "2     b'Asian/Pacific Islander/Asian-American'     b'1'   \n",
       "3               b'European/Caucasian-American'     b'0'   \n",
       "4                  b'Latino/Hispanic American'     b'0'   \n",
       "...                                        ...      ...   \n",
       "8373               b'Latino/Hispanic American'     b'0'   \n",
       "8374                                  b'Other'     b'0'   \n",
       "8375               b'Latino/Hispanic American'     b'0'   \n",
       "8376  b'Asian/Pacific Islander/Asian-American'     b'0'   \n",
       "8377  b'Asian/Pacific Islander/Asian-American'     b'0'   \n",
       "\n",
       "     d_importance_same_race d_importance_same_religion                field   \n",
       "0                  b'[2-5]'                   b'[2-5]'               b'Law'  \\\n",
       "1                  b'[2-5]'                   b'[2-5]'               b'Law'   \n",
       "2                  b'[2-5]'                   b'[2-5]'               b'Law'   \n",
       "3                  b'[2-5]'                   b'[2-5]'               b'Law'   \n",
       "4                  b'[2-5]'                   b'[2-5]'               b'Law'   \n",
       "...                     ...                        ...                  ...   \n",
       "8373               b'[0-1]'                   b'[0-1]'  b'Climate Dynamics'   \n",
       "8374               b'[0-1]'                   b'[0-1]'  b'Climate Dynamics'   \n",
       "8375               b'[0-1]'                   b'[0-1]'  b'Climate Dynamics'   \n",
       "8376               b'[0-1]'                   b'[0-1]'  b'Climate Dynamics'   \n",
       "8377               b'[0-1]'                   b'[0-1]'  b'Climate Dynamics'   \n",
       "\n",
       "     d_pref_o_attractive d_pref_o_sincere  ...    d_yoga   \n",
       "0            b'[21-100]'       b'[16-20]'  ...  b'[0-5]'  \\\n",
       "1            b'[21-100]'        b'[0-15]'  ...  b'[0-5]'   \n",
       "2             b'[16-20]'       b'[16-20]'  ...  b'[0-5]'   \n",
       "3            b'[21-100]'        b'[0-15]'  ...  b'[0-5]'   \n",
       "4            b'[21-100]'        b'[0-15]'  ...  b'[0-5]'   \n",
       "...                  ...              ...  ...       ...   \n",
       "8373           b'[0-15]'        b'[0-15]'  ...  b'[0-5]'   \n",
       "8374         b'[21-100]'       b'[16-20]'  ...  b'[0-5]'   \n",
       "8375         b'[21-100]'        b'[0-15]'  ...  b'[0-5]'   \n",
       "8376           b'[0-15]'      b'[21-100]'  ...  b'[0-5]'   \n",
       "8377          b'[16-20]'       b'[16-20]'  ...  b'[0-5]'   \n",
       "\n",
       "     d_interests_correlate d_expected_happy_with_sd_people   \n",
       "0              b'[0-0.33]'                        b'[0-4]'  \\\n",
       "1              b'[0.33-1]'                        b'[0-4]'   \n",
       "2              b'[0-0.33]'                        b'[0-4]'   \n",
       "3              b'[0.33-1]'                        b'[0-4]'   \n",
       "4              b'[0-0.33]'                        b'[0-4]'   \n",
       "...                    ...                             ...   \n",
       "8373           b'[0.33-1]'                       b'[7-10]'   \n",
       "8374           b'[0.33-1]'                       b'[7-10]'   \n",
       "8375             b'[-1-0]'                       b'[7-10]'   \n",
       "8376           b'[0.33-1]'                       b'[7-10]'   \n",
       "8377           b'[0-0.33]'                       b'[7-10]'   \n",
       "\n",
       "     d_expected_num_interested_in_me d_expected_num_matches    d_like   \n",
       "0                           b'[0-3]'               b'[3-5]'  b'[6-8]'  \\\n",
       "1                           b'[0-3]'               b'[3-5]'  b'[6-8]'   \n",
       "2                           b'[0-3]'               b'[3-5]'  b'[6-8]'   \n",
       "3                           b'[0-3]'               b'[3-5]'  b'[6-8]'   \n",
       "4                           b'[0-3]'               b'[3-5]'  b'[6-8]'   \n",
       "...                              ...                    ...       ...   \n",
       "8373                        b'[0-3]'               b'[3-5]'  b'[0-5]'   \n",
       "8374                        b'[0-3]'               b'[3-5]'  b'[0-5]'   \n",
       "8375                        b'[0-3]'               b'[3-5]'  b'[6-8]'   \n",
       "8376                        b'[0-3]'               b'[3-5]'  b'[0-5]'   \n",
       "8377                        b'[0-3]'               b'[3-5]'  b'[0-5]'   \n",
       "\n",
       "     d_guess_prob_liked decision decision_o match  \n",
       "0              b'[5-6]'     b'1'       b'0'  b'0'  \n",
       "1              b'[5-6]'     b'1'       b'0'  b'0'  \n",
       "2              b'[0-4]'     b'1'       b'1'  b'1'  \n",
       "3              b'[5-6]'     b'1'       b'1'  b'1'  \n",
       "4              b'[5-6]'     b'1'       b'1'  b'1'  \n",
       "...                 ...      ...        ...   ...  \n",
       "8373           b'[5-6]'     b'0'       b'1'  b'0'  \n",
       "8374           b'[0-4]'     b'0'       b'0'  b'0'  \n",
       "8375           b'[5-6]'     b'0'       b'0'  b'0'  \n",
       "8376           b'[5-6]'     b'0'       b'1'  b'0'  \n",
       "8377           b'[5-6]'     b'0'       b'1'  b'0'  \n",
       "\n",
       "[8378 rows x 63 columns]"
      ]
     },
     "execution_count": 10,
     "metadata": {},
     "output_type": "execute_result"
    }
   ],
   "source": [
    "category_columns"
   ]
  },
  {
   "cell_type": "code",
   "execution_count": 11,
   "metadata": {
    "pycharm": {
     "name": "#%%\n"
    }
   },
   "outputs": [],
   "source": [
    "CoulmnToEncode = ['gender','race','race_o','samerace','field','decision','decision_o','match']"
   ]
  },
  {
   "cell_type": "code",
   "execution_count": 12,
   "metadata": {
    "pycharm": {
     "name": "#%%\n"
    }
   },
   "outputs": [],
   "source": [
    "labenc = LabelEncoder()"
   ]
  },
  {
   "cell_type": "code",
   "execution_count": 13,
   "metadata": {
    "pycharm": {
     "name": "#%%\n"
    }
   },
   "outputs": [],
   "source": [
    "for feature in CoulmnToEncode:\n",
    "    try:\n",
    "      df[feature] = labenc.fit_transform(df[feature])\n",
    "    except:\n",
    "      print('Error encoding '+feature)"
   ]
  },
  {
   "cell_type": "code",
   "execution_count": 14,
   "metadata": {
    "pycharm": {
     "name": "#%%\n"
    }
   },
   "outputs": [
    {
     "data": {
      "text/plain": [
       "float64    59\n",
       "object     55\n",
       "int64       8\n",
       "Name: count, dtype: int64"
      ]
     },
     "execution_count": 14,
     "metadata": {},
     "output_type": "execute_result"
    }
   ],
   "source": [
    "df.dtypes.value_counts()"
   ]
  },
  {
   "cell_type": "code",
   "execution_count": 15,
   "metadata": {
    "pycharm": {
     "name": "#%%\n"
    }
   },
   "outputs": [],
   "source": [
    "category_columns = df.select_dtypes(include='object').columns\n",
    "\n",
    "# Drop the selected columns\n",
    "df.drop(columns=category_columns, axis =1 , inplace= True)"
   ]
  },
  {
   "cell_type": "code",
   "execution_count": 16,
   "metadata": {
    "pycharm": {
     "name": "#%%\n"
    }
   },
   "outputs": [
    {
     "data": {
      "text/plain": [
       "float64    59\n",
       "int64       8\n",
       "Name: count, dtype: int64"
      ]
     },
     "execution_count": 16,
     "metadata": {},
     "output_type": "execute_result"
    }
   ],
   "source": [
    "df.dtypes.value_counts()"
   ]
  },
  {
   "cell_type": "code",
   "execution_count": 17,
   "metadata": {
    "pycharm": {
     "name": "#%%\n"
    }
   },
   "outputs": [
    {
     "data": {
      "text/html": [
       "<div>\n",
       "<style scoped>\n",
       "    .dataframe tbody tr th:only-of-type {\n",
       "        vertical-align: middle;\n",
       "    }\n",
       "\n",
       "    .dataframe tbody tr th {\n",
       "        vertical-align: top;\n",
       "    }\n",
       "\n",
       "    .dataframe thead th {\n",
       "        text-align: right;\n",
       "    }\n",
       "</style>\n",
       "<table border=\"1\" class=\"dataframe\">\n",
       "  <thead>\n",
       "    <tr style=\"text-align: right;\">\n",
       "      <th></th>\n",
       "      <th>wave</th>\n",
       "      <th>gender</th>\n",
       "      <th>age</th>\n",
       "      <th>age_o</th>\n",
       "      <th>d_age</th>\n",
       "      <th>race</th>\n",
       "      <th>race_o</th>\n",
       "      <th>samerace</th>\n",
       "      <th>importance_same_race</th>\n",
       "      <th>importance_same_religion</th>\n",
       "      <th>...</th>\n",
       "      <th>interests_correlate</th>\n",
       "      <th>expected_happy_with_sd_people</th>\n",
       "      <th>expected_num_interested_in_me</th>\n",
       "      <th>expected_num_matches</th>\n",
       "      <th>like</th>\n",
       "      <th>guess_prob_liked</th>\n",
       "      <th>met</th>\n",
       "      <th>decision</th>\n",
       "      <th>decision_o</th>\n",
       "      <th>match</th>\n",
       "    </tr>\n",
       "  </thead>\n",
       "  <tbody>\n",
       "    <tr>\n",
       "      <th>0</th>\n",
       "      <td>1.0</td>\n",
       "      <td>0</td>\n",
       "      <td>21.0</td>\n",
       "      <td>27.0</td>\n",
       "      <td>6.0</td>\n",
       "      <td>1</td>\n",
       "      <td>3</td>\n",
       "      <td>0</td>\n",
       "      <td>2.0</td>\n",
       "      <td>4.0</td>\n",
       "      <td>...</td>\n",
       "      <td>0.14</td>\n",
       "      <td>3.0</td>\n",
       "      <td>2.0</td>\n",
       "      <td>4.0</td>\n",
       "      <td>7.0</td>\n",
       "      <td>6.0</td>\n",
       "      <td>0.0</td>\n",
       "      <td>1</td>\n",
       "      <td>0</td>\n",
       "      <td>0</td>\n",
       "    </tr>\n",
       "    <tr>\n",
       "      <th>1</th>\n",
       "      <td>1.0</td>\n",
       "      <td>0</td>\n",
       "      <td>21.0</td>\n",
       "      <td>22.0</td>\n",
       "      <td>1.0</td>\n",
       "      <td>1</td>\n",
       "      <td>3</td>\n",
       "      <td>0</td>\n",
       "      <td>2.0</td>\n",
       "      <td>4.0</td>\n",
       "      <td>...</td>\n",
       "      <td>0.54</td>\n",
       "      <td>3.0</td>\n",
       "      <td>2.0</td>\n",
       "      <td>4.0</td>\n",
       "      <td>7.0</td>\n",
       "      <td>5.0</td>\n",
       "      <td>1.0</td>\n",
       "      <td>1</td>\n",
       "      <td>0</td>\n",
       "      <td>0</td>\n",
       "    </tr>\n",
       "    <tr>\n",
       "      <th>2</th>\n",
       "      <td>1.0</td>\n",
       "      <td>0</td>\n",
       "      <td>21.0</td>\n",
       "      <td>22.0</td>\n",
       "      <td>1.0</td>\n",
       "      <td>1</td>\n",
       "      <td>1</td>\n",
       "      <td>1</td>\n",
       "      <td>2.0</td>\n",
       "      <td>4.0</td>\n",
       "      <td>...</td>\n",
       "      <td>0.16</td>\n",
       "      <td>3.0</td>\n",
       "      <td>2.0</td>\n",
       "      <td>4.0</td>\n",
       "      <td>7.0</td>\n",
       "      <td>NaN</td>\n",
       "      <td>1.0</td>\n",
       "      <td>1</td>\n",
       "      <td>1</td>\n",
       "      <td>1</td>\n",
       "    </tr>\n",
       "    <tr>\n",
       "      <th>3</th>\n",
       "      <td>1.0</td>\n",
       "      <td>0</td>\n",
       "      <td>21.0</td>\n",
       "      <td>23.0</td>\n",
       "      <td>2.0</td>\n",
       "      <td>1</td>\n",
       "      <td>3</td>\n",
       "      <td>0</td>\n",
       "      <td>2.0</td>\n",
       "      <td>4.0</td>\n",
       "      <td>...</td>\n",
       "      <td>0.61</td>\n",
       "      <td>3.0</td>\n",
       "      <td>2.0</td>\n",
       "      <td>4.0</td>\n",
       "      <td>7.0</td>\n",
       "      <td>6.0</td>\n",
       "      <td>0.0</td>\n",
       "      <td>1</td>\n",
       "      <td>1</td>\n",
       "      <td>1</td>\n",
       "    </tr>\n",
       "    <tr>\n",
       "      <th>4</th>\n",
       "      <td>1.0</td>\n",
       "      <td>0</td>\n",
       "      <td>21.0</td>\n",
       "      <td>24.0</td>\n",
       "      <td>3.0</td>\n",
       "      <td>1</td>\n",
       "      <td>4</td>\n",
       "      <td>0</td>\n",
       "      <td>2.0</td>\n",
       "      <td>4.0</td>\n",
       "      <td>...</td>\n",
       "      <td>0.21</td>\n",
       "      <td>3.0</td>\n",
       "      <td>2.0</td>\n",
       "      <td>4.0</td>\n",
       "      <td>6.0</td>\n",
       "      <td>6.0</td>\n",
       "      <td>0.0</td>\n",
       "      <td>1</td>\n",
       "      <td>1</td>\n",
       "      <td>1</td>\n",
       "    </tr>\n",
       "  </tbody>\n",
       "</table>\n",
       "<p>5 rows × 67 columns</p>\n",
       "</div>"
      ],
      "text/plain": [
       "   wave  gender   age  age_o  d_age  race  race_o  samerace   \n",
       "0   1.0       0  21.0   27.0    6.0     1       3         0  \\\n",
       "1   1.0       0  21.0   22.0    1.0     1       3         0   \n",
       "2   1.0       0  21.0   22.0    1.0     1       1         1   \n",
       "3   1.0       0  21.0   23.0    2.0     1       3         0   \n",
       "4   1.0       0  21.0   24.0    3.0     1       4         0   \n",
       "\n",
       "   importance_same_race  importance_same_religion  ...  interests_correlate   \n",
       "0                   2.0                       4.0  ...                 0.14  \\\n",
       "1                   2.0                       4.0  ...                 0.54   \n",
       "2                   2.0                       4.0  ...                 0.16   \n",
       "3                   2.0                       4.0  ...                 0.61   \n",
       "4                   2.0                       4.0  ...                 0.21   \n",
       "\n",
       "   expected_happy_with_sd_people  expected_num_interested_in_me   \n",
       "0                            3.0                            2.0  \\\n",
       "1                            3.0                            2.0   \n",
       "2                            3.0                            2.0   \n",
       "3                            3.0                            2.0   \n",
       "4                            3.0                            2.0   \n",
       "\n",
       "   expected_num_matches  like  guess_prob_liked  met  decision  decision_o   \n",
       "0                   4.0   7.0               6.0  0.0         1           0  \\\n",
       "1                   4.0   7.0               5.0  1.0         1           0   \n",
       "2                   4.0   7.0               NaN  1.0         1           1   \n",
       "3                   4.0   7.0               6.0  0.0         1           1   \n",
       "4                   4.0   6.0               6.0  0.0         1           1   \n",
       "\n",
       "   match  \n",
       "0      0  \n",
       "1      0  \n",
       "2      1  \n",
       "3      1  \n",
       "4      1  \n",
       "\n",
       "[5 rows x 67 columns]"
      ]
     },
     "execution_count": 17,
     "metadata": {},
     "output_type": "execute_result"
    }
   ],
   "source": [
    "df.head()"
   ]
  },
  {
   "cell_type": "code",
   "execution_count": 22,
   "metadata": {
    "pycharm": {
     "name": "#%%\n"
    }
   },
   "outputs": [],
   "source": [
    "duplicate_rows = df[df.duplicated()]"
   ]
  },
  {
   "cell_type": "code",
   "execution_count": 23,
   "metadata": {
    "pycharm": {
     "name": "#%%\n"
    }
   },
   "outputs": [
    {
     "data": {
      "text/html": [
       "<div>\n",
       "<style scoped>\n",
       "    .dataframe tbody tr th:only-of-type {\n",
       "        vertical-align: middle;\n",
       "    }\n",
       "\n",
       "    .dataframe tbody tr th {\n",
       "        vertical-align: top;\n",
       "    }\n",
       "\n",
       "    .dataframe thead th {\n",
       "        text-align: right;\n",
       "    }\n",
       "</style>\n",
       "<table border=\"1\" class=\"dataframe\">\n",
       "  <thead>\n",
       "    <tr style=\"text-align: right;\">\n",
       "      <th></th>\n",
       "      <th>wave</th>\n",
       "      <th>gender</th>\n",
       "      <th>age</th>\n",
       "      <th>age_o</th>\n",
       "      <th>d_age</th>\n",
       "      <th>race</th>\n",
       "      <th>race_o</th>\n",
       "      <th>samerace</th>\n",
       "      <th>importance_same_race</th>\n",
       "      <th>importance_same_religion</th>\n",
       "      <th>...</th>\n",
       "      <th>interests_correlate</th>\n",
       "      <th>expected_happy_with_sd_people</th>\n",
       "      <th>expected_num_interested_in_me</th>\n",
       "      <th>expected_num_matches</th>\n",
       "      <th>like</th>\n",
       "      <th>guess_prob_liked</th>\n",
       "      <th>met</th>\n",
       "      <th>decision</th>\n",
       "      <th>decision_o</th>\n",
       "      <th>match</th>\n",
       "    </tr>\n",
       "  </thead>\n",
       "  <tbody>\n",
       "  </tbody>\n",
       "</table>\n",
       "<p>0 rows × 67 columns</p>\n",
       "</div>"
      ],
      "text/plain": [
       "Empty DataFrame\n",
       "Columns: [wave, gender, age, age_o, d_age, race, race_o, samerace, importance_same_race, importance_same_religion, field, pref_o_attractive, pref_o_sincere, pref_o_intelligence, pref_o_funny, pref_o_ambitious, pref_o_shared_interests, attractive_o, sinsere_o, intelligence_o, funny_o, ambitous_o, shared_interests_o, attractive_important, sincere_important, intellicence_important, funny_important, ambtition_important, shared_interests_important, attractive, sincere, intelligence, funny, ambition, attractive_partner, sincere_partner, intelligence_partner, funny_partner, ambition_partner, shared_interests_partner, sports, tvsports, exercise, dining, museums, art, hiking, gaming, clubbing, reading, tv, theater, movies, concerts, music, shopping, yoga, interests_correlate, expected_happy_with_sd_people, expected_num_interested_in_me, expected_num_matches, like, guess_prob_liked, met, decision, decision_o, match]\n",
       "Index: []\n",
       "\n",
       "[0 rows x 67 columns]"
      ]
     },
     "execution_count": 23,
     "metadata": {},
     "output_type": "execute_result"
    }
   ],
   "source": [
    "duplicate_rows"
   ]
  },
  {
   "cell_type": "code",
   "execution_count": 24,
   "metadata": {
    "pycharm": {
     "name": "#%%\n"
    }
   },
   "outputs": [],
   "source": [
    "null_Columns = df.isnull().sum()"
   ]
  },
  {
   "cell_type": "code",
   "execution_count": 25,
   "metadata": {
    "pycharm": {
     "name": "#%%\n"
    }
   },
   "outputs": [],
   "source": [
    "null_count_per_column = null_Columns[null_Columns > 0]"
   ]
  },
  {
   "cell_type": "code",
   "execution_count": 26,
   "metadata": {
    "pycharm": {
     "name": "#%%\n"
    }
   },
   "outputs": [
    {
     "data": {
      "text/plain": [
       "age                                95\n",
       "age_o                             104\n",
       "importance_same_race               79\n",
       "importance_same_religion           79\n",
       "pref_o_attractive                  89\n",
       "pref_o_sincere                     89\n",
       "pref_o_intelligence                89\n",
       "pref_o_funny                       98\n",
       "pref_o_ambitious                  107\n",
       "pref_o_shared_interests           129\n",
       "attractive_o                      212\n",
       "sinsere_o                         287\n",
       "intelligence_o                    306\n",
       "funny_o                           360\n",
       "ambitous_o                        722\n",
       "shared_interests_o               1076\n",
       "attractive_important               79\n",
       "sincere_important                  79\n",
       "intellicence_important             79\n",
       "funny_important                    89\n",
       "ambtition_important                99\n",
       "shared_interests_important        121\n",
       "attractive                        105\n",
       "sincere                           105\n",
       "intelligence                      105\n",
       "funny                             105\n",
       "ambition                          105\n",
       "attractive_partner                202\n",
       "sincere_partner                   277\n",
       "intelligence_partner              296\n",
       "funny_partner                     350\n",
       "ambition_partner                  712\n",
       "shared_interests_partner         1067\n",
       "sports                             79\n",
       "tvsports                           79\n",
       "exercise                           79\n",
       "dining                             79\n",
       "museums                            79\n",
       "art                                79\n",
       "hiking                             79\n",
       "gaming                             79\n",
       "clubbing                           79\n",
       "reading                            79\n",
       "tv                                 79\n",
       "theater                            79\n",
       "movies                             79\n",
       "concerts                           79\n",
       "music                              79\n",
       "shopping                           79\n",
       "yoga                               79\n",
       "interests_correlate               158\n",
       "expected_happy_with_sd_people     101\n",
       "expected_num_interested_in_me    6578\n",
       "expected_num_matches             1173\n",
       "like                              240\n",
       "guess_prob_liked                  309\n",
       "met                               375\n",
       "dtype: int64"
      ]
     },
     "execution_count": 26,
     "metadata": {},
     "output_type": "execute_result"
    }
   ],
   "source": [
    "null_count_per_column"
   ]
  },
  {
   "cell_type": "code",
   "execution_count": 27,
   "metadata": {
    "pycharm": {
     "name": "#%%\n"
    }
   },
   "outputs": [],
   "source": [
    "df.drop(\"expected_num_interested_in_me\", axis = 1, inplace = True)"
   ]
  },
  {
   "cell_type": "code",
   "execution_count": 28,
   "metadata": {
    "pycharm": {
     "name": "#%%\n"
    }
   },
   "outputs": [],
   "source": [
    "new_data = df.copy(deep = True)"
   ]
  },
  {
   "cell_type": "code",
   "execution_count": 29,
   "metadata": {
    "pycharm": {
     "name": "#%%\n"
    }
   },
   "outputs": [],
   "source": [
    "imputer = KNNImputer(n_neighbors = 5)\n",
    "new_data = pd.DataFrame(imputer.fit_transform(new_data), columns=new_data.columns)\n"
   ]
  },
  {
   "cell_type": "code",
   "execution_count": 30,
   "metadata": {
    "pycharm": {
     "name": "#%%\n"
    }
   },
   "outputs": [
    {
     "data": {
      "text/plain": [
       "0"
      ]
     },
     "execution_count": 30,
     "metadata": {},
     "output_type": "execute_result"
    }
   ],
   "source": [
    "new_data.isnull().sum().sum()"
   ]
  },
  {
   "cell_type": "code",
   "execution_count": 31,
   "metadata": {
    "pycharm": {
     "name": "#%%\n"
    }
   },
   "outputs": [],
   "source": [
    "correlation_matrix = new_data.corr()\n",
    "correlation_matrix = correlation_matrix[(correlation_matrix.abs() > 0.5) | (correlation_matrix.abs() < -0.5)]\n"
   ]
  },
  {
   "cell_type": "code",
   "execution_count": 32,
   "metadata": {
    "pycharm": {
     "name": "#%%\n"
    }
   },
   "outputs": [
    {
     "data": {
      "image/png": "[encoded data removed]",
      "text/plain": [
       "<Figure size 640x480 with 2 Axes>"
      ]
     },
     "metadata": {},
     "output_type": "display_data"
    }
   ],
   "source": [
    "\n",
    "# Customize plot\n",
    "\n",
    "sns.heatmap(correlation_matrix, cmap='coolwarm')\n",
    "\n",
    "# Customize plot\n",
    "plt.title('Correlation Heatmap with Column Names')\n",
    "plt.show()"
   ]
  },
  {
   "cell_type": "code",
   "execution_count": 33,
   "metadata": {
    "pycharm": {
     "name": "#%%\n"
    }
   },
   "outputs": [],
   "source": [
    "scaler = MinMaxScaler()\n",
    "normalized_data = pd.DataFrame(scaler.fit_transform(new_data), columns=new_data.columns)"
   ]
  },
  {
   "cell_type": "code",
   "execution_count": 34,
   "metadata": {
    "pycharm": {
     "name": "#%%\n"
    }
   },
   "outputs": [],
   "source": [
    "X = normalized_data.drop(['match', 'decision', 'decision_o'], axis=1)\n",
    "y = normalized_data['match']"
   ]
  },
  {
   "cell_type": "code",
   "execution_count": 35,
   "metadata": {
    "pycharm": {
     "name": "#%%\n"
    }
   },
   "outputs": [],
   "source": [
    "X_train, X_test, y_train, y_test = train_test_split(X, y, test_size=0.2, random_state=42)"
   ]
  },
  {
   "cell_type": "code",
   "execution_count": 36,
   "metadata": {
    "pycharm": {
     "name": "#%%\n"
    }
   },
   "outputs": [
    {
     "name": "stdout",
     "output_type": "stream",
     "text": [
      "Accuracy: 0.7696897374701671\n"
     ]
    }
   ],
   "source": [
    "model = LogisticRegression(class_weight='balanced',max_iter=1000)\n",
    "model.fit(X_train, y_train)\n",
    "\n",
    "# Make predictions on the test set\n",
    "y_pred = model.predict(X_test)\n",
    "\n",
    "# Evaluate the model's accuracy\n",
    "accuracy = accuracy_score(y_test, y_pred)\n",
    "print(\"Accuracy:\", accuracy)\n",
    "\n",
    "print( \" Model Evaluation: mean_squared_error is \", mean_squared_error(y_test,y_pred))"
   ]
  },
  {
   "cell_type": "code",
   "execution_count": 51,
   "metadata": {
    "pycharm": {
     "name": "#%%\n"
    }
   },
   "outputs": [],
   "source": [
    "pca = PCA(n_components=16)  # Set the desired number of components\n",
    "X_pca = pca.fit_transform(X)"
   ]
  },
  {
   "cell_type": "code",
   "execution_count": 52,
   "metadata": {
    "pycharm": {
     "name": "#%%\n"
    }
   },
   "outputs": [],
   "source": [
    "X_train, X_test, y_train, y_test = train_test_split(X_pca, y, test_size=0.2, random_state=42)"
   ]
  },
  {
   "cell_type": "code",
   "execution_count": 55,
   "metadata": {
    "pycharm": {
     "name": "#%%\n"
    }
   },
   "outputs": [
    {
     "name": "stdout",
     "output_type": "stream",
     "text": [
      "Accuracy: 0.7547732696897375\n",
      "Mean Square Error is  0.24522673031026254\n"
     ]
    }
   ],
   "source": [
    "model = LogisticRegression(class_weight='balanced',max_iter=1000)\n",
    "model.fit(X_train, y_train)\n",
    "\n",
    "# Make predictions on the test set\n",
    "y_pred = model.predict(X_test)\n",
    "\n",
    "# Evaluate the model's accuracy\n",
    "accuracy = accuracy_score(y_test, y_pred)\n",
    "print(\"Accuracy:\", accuracy)\n",
    "\n",
    "print( \"Mean Square Error is \", mean_squared_error(y_test,y_pred))"
   ]
  },
  {
   "cell_type": "code",
   "execution_count": 75,
   "metadata": {
    "pycharm": {
     "name": "#%%\n"
    }
   },
   "outputs": [
    {
     "name": "stdout",
     "output_type": "stream",
     "text": [
      "IMPORTANT FEATURES\n",
      "Feature 1: gender\n",
      "Feature 2: samerace\n",
      "Feature 3: tvsports\n",
      "Feature 4: sports\n",
      "Feature 5: importance_same_religion\n",
      "Feature 6: clubbing\n"
     ]
    }
   ],
   "source": [
    "\n",
    "loadings = pca.components_\n",
    "\n",
    "# Create a DataFrame to visualize the loadings\n",
    "loadings_df = pd.DataFrame(loadings, columns=X.columns)\n",
    "\n",
    "\n",
    "# Display the loadings DataFrame\n",
    "print(\"IMPORTANT FEATURES\")\n",
    "\n",
    "for i in range(3):\n",
    "    # Find the feature with the highest absolute loading for each principal component\n",
    "    important_feature = loadings_df.iloc[i].abs().idxmax()\n",
    "    print(f\"Feature {i+1}: {important_feature}\")\n",
    "important_feature = loadings_df.iloc[5].abs().idxmax()\n",
    "print(f\"Feature {4}: {important_feature}\")\n",
    "important_feature = loadings_df.iloc[6].abs().idxmax()\n",
    "print(f\"Feature {5}: {important_feature}\")\n",
    "important_feature = loadings_df.iloc[11].abs().idxmax()\n",
    "print(f\"Feature {6}: {important_feature}\")\n",
    "\n",
    "\n"
   ]
  },
  {
   "cell_type": "code",
   "execution_count": null,
   "metadata": {
    "pycharm": {
     "name": "#%%\n"
    }
   },
   "outputs": [],
   "source": []
  }
 ],
 "metadata": {
  "kernelspec": {
   "display_name": "Python 3 (ipykernel)",
   "language": "python",
   "name": "python3"
  },
  "language_info": {
   "codemirror_mode": {
    "name": "ipython",
    "version": 3
   },
   "file_extension": ".py",
   "mimetype": "text/x-python",
   "name": "python",
   "nbconvert_exporter": "python",
   "pygments_lexer": "ipython3",
   "version": "3.9.7"
  }
 },
 "nbformat": 4,
 "nbformat_minor": 1
}